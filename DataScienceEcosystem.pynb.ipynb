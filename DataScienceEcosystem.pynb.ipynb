{
 "cells": [
  {
   "cell_type": "markdown",
   "id": "c92f15b5-2a04-469e-b472-2b209c9f7567",
   "metadata": {},
   "source": [
    "Data Science Tools and Ecosystem \n"
   ]
  },
  {
   "cell_type": "markdown",
   "id": "dc2d28f7-15b7-442e-b831-cafdc315c3d3",
   "metadata": {},
   "source": [
    "<h1>Data Science Tools and Ecosystem </h1>\n"
   ]
  },
  {
   "cell_type": "markdown",
   "id": "8c3908e9-6118-46c7-9ad4-b56a782f132c",
   "metadata": {},
   "source": [
    "Data Science Tools and Ecosystem are summarized"
   ]
  },
  {
   "cell_type": "markdown",
   "id": "6d0abe9f-8ac0-45b9-b12d-d4d484c6234d",
   "metadata": {},
   "source": [
    "Some of the popular languages that Data Scientists use are:\n",
    "1. Python\n",
    "1. R\n",
    "1. Julia\n",
    "\n",
    "    "
   ]
  },
  {
   "cell_type": "markdown",
   "id": "02af8ff8-d777-4b6c-aa52-35b4065f1862",
   "metadata": {},
   "source": [
    "Some of the popular languages that Data Scientists use are:\n",
    "1. Matplolib\n",
    "1. Pandas\n",
    "1. Seaborn"
   ]
  },
  {
   "cell_type": "markdown",
   "id": "6188671a-14ab-4e79-8b17-3d972777b799",
   "metadata": {
    "tags": []
   },
   "source": [
    "## Execute as a markdown cell\n",
    "\n",
    "| Data Science Tools | \n",
    "| -------------| \n",
    "| MongoDB | \n",
    "| RStudio | \n",
    "| HADOOP | "
   ]
  },
  {
   "cell_type": "code",
   "execution_count": null,
   "id": "f7b82d9b-0215-49a7-a6b6-e1ffd529d92e",
   "metadata": {},
   "outputs": [],
   "source": []
  }
 ],
 "metadata": {
  "kernelspec": {
   "display_name": "Python",
   "language": "python",
   "name": "conda-env-python-py"
  },
  "language_info": {
   "codemirror_mode": {
    "name": "ipython",
    "version": 3
   },
   "file_extension": ".py",
   "mimetype": "text/x-python",
   "name": "python",
   "nbconvert_exporter": "python",
   "pygments_lexer": "ipython3",
   "version": "3.7.12"
  }
 },
 "nbformat": 4,
 "nbformat_minor": 5
}
